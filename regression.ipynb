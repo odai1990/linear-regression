{
 "cells": [
  {
   "cell_type": "code",
   "execution_count": 1,
   "id": "4f854b77-7428-4a61-8e27-e56429ec0259",
   "metadata": {},
   "outputs": [],
   "source": [
    "import pandas as pd\n",
    "import matplotlib.pyplot as plt\n",
    "from sklearn.linear_model import LinearRegression\n",
    "from sklearn.model_selection import train_test_split\n",
    "%matplotlib inline"
   ]
  },
  {
   "cell_type": "markdown",
   "id": "d04d8a63-0781-490e-84f8-01499761486f",
   "metadata": {},
   "source": [
    "# This Lab Has three CSV files Please Walk Thorugh them"
   ]
  },
  {
   "cell_type": "markdown",
   "id": "5445d3a4-e30f-4432-a2e7-cba369aadf24",
   "metadata": {},
   "source": [
    "## **First File about R&D Spend and profite"
   ]
  },
  {
   "cell_type": "code",
   "execution_count": 2,
   "id": "04fbd9d2-0183-4805-876d-5be6441aea5c",
   "metadata": {},
   "outputs": [],
   "source": [
    "data = pd.read_csv(\"./Startups.csv\")"
   ]
  },
  {
   "cell_type": "markdown",
   "id": "ac307071-1bfe-4e6b-9af7-73388fd2e90b",
   "metadata": {},
   "source": [
    "### 1.Show the first five rows of the data set."
   ]
  },
  {
   "cell_type": "code",
   "execution_count": 3,
   "id": "ac8cdc4e-c819-4d2b-a0b3-c6946c9d3186",
   "metadata": {},
   "outputs": [
    {
     "data": {
      "text/html": [
       "<div>\n",
       "<style scoped>\n",
       "    .dataframe tbody tr th:only-of-type {\n",
       "        vertical-align: middle;\n",
       "    }\n",
       "\n",
       "    .dataframe tbody tr th {\n",
       "        vertical-align: top;\n",
       "    }\n",
       "\n",
       "    .dataframe thead th {\n",
       "        text-align: right;\n",
       "    }\n",
       "</style>\n",
       "<table border=\"1\" class=\"dataframe\">\n",
       "  <thead>\n",
       "    <tr style=\"text-align: right;\">\n",
       "      <th></th>\n",
       "      <th>R&amp;D Spend</th>\n",
       "      <th>Administration</th>\n",
       "      <th>Marketing Spend</th>\n",
       "      <th>State</th>\n",
       "      <th>Profit</th>\n",
       "    </tr>\n",
       "  </thead>\n",
       "  <tbody>\n",
       "    <tr>\n",
       "      <th>0</th>\n",
       "      <td>165349.20</td>\n",
       "      <td>136897.80</td>\n",
       "      <td>471784.10</td>\n",
       "      <td>New York</td>\n",
       "      <td>192261.83</td>\n",
       "    </tr>\n",
       "    <tr>\n",
       "      <th>1</th>\n",
       "      <td>162597.70</td>\n",
       "      <td>151377.59</td>\n",
       "      <td>443898.53</td>\n",
       "      <td>California</td>\n",
       "      <td>191792.06</td>\n",
       "    </tr>\n",
       "    <tr>\n",
       "      <th>2</th>\n",
       "      <td>153441.51</td>\n",
       "      <td>101145.55</td>\n",
       "      <td>407934.54</td>\n",
       "      <td>Florida</td>\n",
       "      <td>191050.39</td>\n",
       "    </tr>\n",
       "    <tr>\n",
       "      <th>3</th>\n",
       "      <td>144372.41</td>\n",
       "      <td>118671.85</td>\n",
       "      <td>383199.62</td>\n",
       "      <td>New York</td>\n",
       "      <td>182901.99</td>\n",
       "    </tr>\n",
       "    <tr>\n",
       "      <th>4</th>\n",
       "      <td>142107.34</td>\n",
       "      <td>91391.77</td>\n",
       "      <td>366168.42</td>\n",
       "      <td>Florida</td>\n",
       "      <td>166187.94</td>\n",
       "    </tr>\n",
       "  </tbody>\n",
       "</table>\n",
       "</div>"
      ],
      "text/plain": [
       "   R&D Spend  Administration  Marketing Spend       State     Profit\n",
       "0  165349.20       136897.80        471784.10    New York  192261.83\n",
       "1  162597.70       151377.59        443898.53  California  191792.06\n",
       "2  153441.51       101145.55        407934.54     Florida  191050.39\n",
       "3  144372.41       118671.85        383199.62    New York  182901.99\n",
       "4  142107.34        91391.77        366168.42     Florida  166187.94"
      ]
     },
     "execution_count": 3,
     "metadata": {},
     "output_type": "execute_result"
    }
   ],
   "source": [
    "data.head()"
   ]
  },
  {
   "cell_type": "markdown",
   "id": "435d1582-a8f4-45a7-bf36-01f3cd1a9073",
   "metadata": {},
   "source": [
    "### 2.Show the description and the info of the data set."
   ]
  },
  {
   "cell_type": "code",
   "execution_count": 4,
   "id": "04d06fcf-9fdf-43c1-93b6-e61c8d4ff3df",
   "metadata": {},
   "outputs": [
    {
     "name": "stdout",
     "output_type": "stream",
     "text": [
      "<class 'pandas.core.frame.DataFrame'>\n",
      "RangeIndex: 50 entries, 0 to 49\n",
      "Data columns (total 5 columns):\n",
      " #   Column           Non-Null Count  Dtype  \n",
      "---  ------           --------------  -----  \n",
      " 0   R&D Spend        50 non-null     float64\n",
      " 1   Administration   50 non-null     float64\n",
      " 2   Marketing Spend  50 non-null     float64\n",
      " 3   State            50 non-null     object \n",
      " 4   Profit           50 non-null     float64\n",
      "dtypes: float64(4), object(1)\n",
      "memory usage: 2.1+ KB\n"
     ]
    }
   ],
   "source": [
    "data.info()"
   ]
  },
  {
   "cell_type": "code",
   "execution_count": 5,
   "id": "f6991698-20f1-4133-86b9-045aaad0c115",
   "metadata": {},
   "outputs": [
    {
     "data": {
      "text/html": [
       "<div>\n",
       "<style scoped>\n",
       "    .dataframe tbody tr th:only-of-type {\n",
       "        vertical-align: middle;\n",
       "    }\n",
       "\n",
       "    .dataframe tbody tr th {\n",
       "        vertical-align: top;\n",
       "    }\n",
       "\n",
       "    .dataframe thead th {\n",
       "        text-align: right;\n",
       "    }\n",
       "</style>\n",
       "<table border=\"1\" class=\"dataframe\">\n",
       "  <thead>\n",
       "    <tr style=\"text-align: right;\">\n",
       "      <th></th>\n",
       "      <th>R&amp;D Spend</th>\n",
       "      <th>Administration</th>\n",
       "      <th>Marketing Spend</th>\n",
       "      <th>Profit</th>\n",
       "    </tr>\n",
       "  </thead>\n",
       "  <tbody>\n",
       "    <tr>\n",
       "      <th>count</th>\n",
       "      <td>50.000000</td>\n",
       "      <td>50.000000</td>\n",
       "      <td>50.000000</td>\n",
       "      <td>50.000000</td>\n",
       "    </tr>\n",
       "    <tr>\n",
       "      <th>mean</th>\n",
       "      <td>73721.615600</td>\n",
       "      <td>121344.639600</td>\n",
       "      <td>211025.097800</td>\n",
       "      <td>112012.639200</td>\n",
       "    </tr>\n",
       "    <tr>\n",
       "      <th>std</th>\n",
       "      <td>45902.256482</td>\n",
       "      <td>28017.802755</td>\n",
       "      <td>122290.310726</td>\n",
       "      <td>40306.180338</td>\n",
       "    </tr>\n",
       "    <tr>\n",
       "      <th>min</th>\n",
       "      <td>0.000000</td>\n",
       "      <td>51283.140000</td>\n",
       "      <td>0.000000</td>\n",
       "      <td>14681.400000</td>\n",
       "    </tr>\n",
       "    <tr>\n",
       "      <th>25%</th>\n",
       "      <td>39936.370000</td>\n",
       "      <td>103730.875000</td>\n",
       "      <td>129300.132500</td>\n",
       "      <td>90138.902500</td>\n",
       "    </tr>\n",
       "    <tr>\n",
       "      <th>50%</th>\n",
       "      <td>73051.080000</td>\n",
       "      <td>122699.795000</td>\n",
       "      <td>212716.240000</td>\n",
       "      <td>107978.190000</td>\n",
       "    </tr>\n",
       "    <tr>\n",
       "      <th>75%</th>\n",
       "      <td>101602.800000</td>\n",
       "      <td>144842.180000</td>\n",
       "      <td>299469.085000</td>\n",
       "      <td>139765.977500</td>\n",
       "    </tr>\n",
       "    <tr>\n",
       "      <th>max</th>\n",
       "      <td>165349.200000</td>\n",
       "      <td>182645.560000</td>\n",
       "      <td>471784.100000</td>\n",
       "      <td>192261.830000</td>\n",
       "    </tr>\n",
       "  </tbody>\n",
       "</table>\n",
       "</div>"
      ],
      "text/plain": [
       "           R&D Spend  Administration  Marketing Spend         Profit\n",
       "count      50.000000       50.000000        50.000000      50.000000\n",
       "mean    73721.615600   121344.639600    211025.097800  112012.639200\n",
       "std     45902.256482    28017.802755    122290.310726   40306.180338\n",
       "min         0.000000    51283.140000         0.000000   14681.400000\n",
       "25%     39936.370000   103730.875000    129300.132500   90138.902500\n",
       "50%     73051.080000   122699.795000    212716.240000  107978.190000\n",
       "75%    101602.800000   144842.180000    299469.085000  139765.977500\n",
       "max    165349.200000   182645.560000    471784.100000  192261.830000"
      ]
     },
     "execution_count": 5,
     "metadata": {},
     "output_type": "execute_result"
    }
   ],
   "source": [
    "data.describe()"
   ]
  },
  {
   "cell_type": "markdown",
   "id": "eddfe791-f029-460c-9464-10cac71ebe13",
   "metadata": {},
   "source": [
    "### 3.Ensure that any date columns have been cast into a datetime object in your DataFrame."
   ]
  },
  {
   "cell_type": "markdown",
   "id": "61df0987-81a0-4897-a4df-bff8273bd6a7",
   "metadata": {},
   "source": [
    "##### *This point I will skip it beacuse i don't have dat or time in my CSV file*"
   ]
  },
  {
   "cell_type": "markdown",
   "id": "78d0972c-3a87-4bae-a7a2-45da1a5403f9",
   "metadata": {},
   "source": [
    "### 4.Using a regression model, split your data into train and test data."
   ]
  },
  {
   "cell_type": "code",
   "execution_count": 6,
   "id": "6067c15b-123d-486a-b8e1-c430b7f1f6a4",
   "metadata": {},
   "outputs": [
    {
     "name": "stdout",
     "output_type": "stream",
     "text": [
      "X_rd_train shape (37, 1)\n",
      "y_rd_train shape (37,)\n",
      "X_rd_test shap (13, 1)\n",
      "y_rd_test shape (13,)\n",
      "[156122.51  35673.41 144259.4  166187.94 141585.52  97483.56 155752.6\n",
      " 107404.34  77798.83 124266.9  110352.25 103282.38  96778.92]\n"
     ]
    }
   ],
   "source": [
    "\n",
    "X_rd = data['R&D Spend'].values\n",
    "y_rd = data['Profit'].values\n",
    "X_rd=X_rd.reshape(-1, 1)\n",
    "X_rd\n",
    "x_train, x_test, y_train, y_test = train_test_split(X_rd,y_rd,test_size=0.25,random_state=4)\n",
    "\n",
    "\n",
    "print(f\"X_rd_train shape {x_train.shape}\")\n",
    "print(f\"y_rd_train shape {y_train.shape}\")\n",
    "print(f\"X_rd_test shap {x_test.shape}\")\n",
    "print(f\"y_rd_test shape {y_test.shape}\")\n",
    "print(y_test)"
   ]
  },
  {
   "cell_type": "markdown",
   "id": "3e4c4ab6-74e5-4c20-bdb9-57cf98380af1",
   "metadata": {},
   "source": [
    "### 5.Fit your training split to the regression model."
   ]
  },
  {
   "cell_type": "code",
   "execution_count": 7,
   "id": "325ad1b2-bbea-4a78-9efe-04a7d659085e",
   "metadata": {},
   "outputs": [
    {
     "data": {
      "text/plain": [
       "LinearRegression()"
      ]
     },
     "execution_count": 7,
     "metadata": {},
     "output_type": "execute_result"
    }
   ],
   "source": [
    "lm = LinearRegression()\n",
    "lm.fit(x_train,y_train)"
   ]
  },
  {
   "cell_type": "markdown",
   "id": "d19f7acc-ae04-4bea-888b-6ce4eae170fc",
   "metadata": {},
   "source": [
    "### 6.Show your regression model’s score."
   ]
  },
  {
   "cell_type": "code",
   "execution_count": 8,
   "id": "8f2be694-7899-46b6-9546-7137b0913c02",
   "metadata": {},
   "outputs": [
    {
     "name": "stdout",
     "output_type": "stream",
     "text": [
      "accuracy 94.20897840213445 %\n"
     ]
    }
   ],
   "source": [
    "y_predict = lm.predict(x_test)\n",
    "\n",
    "\n",
    "print(f\"accuracy {lm.score(x_train,y_train)*100} %\")\n"
   ]
  },
  {
   "cell_type": "code",
   "execution_count": 9,
   "id": "9179aa2d-2aeb-423d-b61e-9042631420ed",
   "metadata": {},
   "outputs": [
    {
     "data": {
      "image/png": "[encoded data removed]",
      "text/plain": [
       "<Figure size 432x288 with 1 Axes>"
      ]
     },
     "metadata": {
      "needs_background": "light"
     },
     "output_type": "display_data"
    }
   ],
   "source": [
    "plt.scatter(x_train, y_train, color='blue')\n",
    "plt.scatter(x_test, y_test, color='y')\n",
    "plt.plot(x_test, y_predict, color='red')\n",
    "plt.xlabel('Market_dist')\n",
    "plt.ylabel('Price_house')\n",
    "\n",
    "plt.show()\n"
   ]
  },
  {
   "cell_type": "markdown",
   "id": "2526b6ab-f93b-40e3-b208-9cabf2e7485e",
   "metadata": {},
   "source": [
    "\n",
    "\n",
    "**I came up with a conclusion that R&D spend it increse profiet**  \n"
   ]
  },
  {
   "cell_type": "markdown",
   "id": "599b6c46-3b4b-4b6d-8067-ccf41ea91267",
   "metadata": {},
   "source": [
    "--------------------------------------------------------------------------------------------------------"
   ]
  },
  {
   "cell_type": "markdown",
   "id": "ebde57f1-d2d4-4f36-9a65-211e23f283b7",
   "metadata": {},
   "source": [
    "## **Second File about houeses and thire price dependon thire location "
   ]
  },
  {
   "cell_type": "code",
   "execution_count": 10,
   "id": "40307d6a-b5d5-4fa8-acd9-63bcc6171058",
   "metadata": {},
   "outputs": [],
   "source": [
    "data = pd.read_csv(\"./salespred.csv\")"
   ]
  },
  {
   "cell_type": "markdown",
   "id": "99f3a51b-0839-4845-924e-cadda4dc3a4b",
   "metadata": {},
   "source": [
    "### 1.Show the first five rows of the data set."
   ]
  },
  {
   "cell_type": "code",
   "execution_count": 11,
   "id": "47677225-43f9-47cc-b3bb-648fb2b556e5",
   "metadata": {},
   "outputs": [
    {
     "data": {
      "text/html": [
       "<div>\n",
       "<style scoped>\n",
       "    .dataframe tbody tr th:only-of-type {\n",
       "        vertical-align: middle;\n",
       "    }\n",
       "\n",
       "    .dataframe tbody tr th {\n",
       "        vertical-align: top;\n",
       "    }\n",
       "\n",
       "    .dataframe thead th {\n",
       "        text-align: right;\n",
       "    }\n",
       "</style>\n",
       "<table border=\"1\" class=\"dataframe\">\n",
       "  <thead>\n",
       "    <tr style=\"text-align: right;\">\n",
       "      <th></th>\n",
       "      <th>Unnamed: 0</th>\n",
       "      <th>Taxi_dist</th>\n",
       "      <th>Market_dist</th>\n",
       "      <th>Hospital_dist</th>\n",
       "      <th>Carpet_area</th>\n",
       "      <th>Builtup_area</th>\n",
       "      <th>Parking_type</th>\n",
       "      <th>City_type</th>\n",
       "      <th>Rainfall</th>\n",
       "      <th>Price_house</th>\n",
       "      <th>prediction</th>\n",
       "      <th>Difference</th>\n",
       "    </tr>\n",
       "  </thead>\n",
       "  <tbody>\n",
       "    <tr>\n",
       "      <th>0</th>\n",
       "      <td>1</td>\n",
       "      <td>9796</td>\n",
       "      <td>5250</td>\n",
       "      <td>10703</td>\n",
       "      <td>1659</td>\n",
       "      <td>1961</td>\n",
       "      <td>Open</td>\n",
       "      <td>CAT B</td>\n",
       "      <td>530</td>\n",
       "      <td>6649000</td>\n",
       "      <td>5608831.203</td>\n",
       "      <td>1,040,168.80</td>\n",
       "    </tr>\n",
       "    <tr>\n",
       "      <th>1</th>\n",
       "      <td>2</td>\n",
       "      <td>8294</td>\n",
       "      <td>8186</td>\n",
       "      <td>12694</td>\n",
       "      <td>1461</td>\n",
       "      <td>1752</td>\n",
       "      <td>Not Provided</td>\n",
       "      <td>CAT B</td>\n",
       "      <td>210</td>\n",
       "      <td>3982000</td>\n",
       "      <td>5403239.380</td>\n",
       "      <td>(1,421,239.38)</td>\n",
       "    </tr>\n",
       "    <tr>\n",
       "      <th>2</th>\n",
       "      <td>3</td>\n",
       "      <td>11001</td>\n",
       "      <td>14399</td>\n",
       "      <td>16991</td>\n",
       "      <td>1340</td>\n",
       "      <td>1609</td>\n",
       "      <td>Not Provided</td>\n",
       "      <td>CAT A</td>\n",
       "      <td>720</td>\n",
       "      <td>5401000</td>\n",
       "      <td>7423361.717</td>\n",
       "      <td>(2,022,361.72)</td>\n",
       "    </tr>\n",
       "    <tr>\n",
       "      <th>3</th>\n",
       "      <td>4</td>\n",
       "      <td>8301</td>\n",
       "      <td>11188</td>\n",
       "      <td>12289</td>\n",
       "      <td>1451</td>\n",
       "      <td>1748</td>\n",
       "      <td>Covered</td>\n",
       "      <td>CAT B</td>\n",
       "      <td>620</td>\n",
       "      <td>5373000</td>\n",
       "      <td>5828937.914</td>\n",
       "      <td>(455,937.91)</td>\n",
       "    </tr>\n",
       "    <tr>\n",
       "      <th>4</th>\n",
       "      <td>5</td>\n",
       "      <td>10510</td>\n",
       "      <td>12629</td>\n",
       "      <td>13921</td>\n",
       "      <td>1770</td>\n",
       "      <td>2111</td>\n",
       "      <td>Not Provided</td>\n",
       "      <td>CAT B</td>\n",
       "      <td>450</td>\n",
       "      <td>4662000</td>\n",
       "      <td>5703462.750</td>\n",
       "      <td>(1,041,462.75)</td>\n",
       "    </tr>\n",
       "  </tbody>\n",
       "</table>\n",
       "</div>"
      ],
      "text/plain": [
       "   Unnamed: 0  Taxi_dist  Market_dist  Hospital_dist  Carpet_area  \\\n",
       "0           1       9796         5250          10703         1659   \n",
       "1           2       8294         8186          12694         1461   \n",
       "2           3      11001        14399          16991         1340   \n",
       "3           4       8301        11188          12289         1451   \n",
       "4           5      10510        12629          13921         1770   \n",
       "\n",
       "   Builtup_area  Parking_type City_type  Rainfall  Price_house   prediction  \\\n",
       "0          1961          Open     CAT B       530      6649000  5608831.203   \n",
       "1          1752  Not Provided     CAT B       210      3982000  5403239.380   \n",
       "2          1609  Not Provided     CAT A       720      5401000  7423361.717   \n",
       "3          1748       Covered     CAT B       620      5373000  5828937.914   \n",
       "4          2111  Not Provided     CAT B       450      4662000  5703462.750   \n",
       "\n",
       "       Difference   \n",
       "0    1,040,168.80   \n",
       "1   (1,421,239.38)  \n",
       "2   (2,022,361.72)  \n",
       "3     (455,937.91)  \n",
       "4   (1,041,462.75)  "
      ]
     },
     "execution_count": 11,
     "metadata": {},
     "output_type": "execute_result"
    }
   ],
   "source": [
    "data.head()"
   ]
  },
  {
   "cell_type": "markdown",
   "id": "2cde534d-dbc9-4988-a924-83847645ead4",
   "metadata": {},
   "source": [
    "### 2.Show the description and the info of the data set."
   ]
  },
  {
   "cell_type": "code",
   "execution_count": 12,
   "id": "81a7561d-5cce-4376-b9cb-d6a785ec8e90",
   "metadata": {},
   "outputs": [
    {
     "name": "stdout",
     "output_type": "stream",
     "text": [
      "<class 'pandas.core.frame.DataFrame'>\n",
      "RangeIndex: 853 entries, 0 to 852\n",
      "Data columns (total 12 columns):\n",
      " #   Column         Non-Null Count  Dtype  \n",
      "---  ------         --------------  -----  \n",
      " 0   Unnamed: 0     853 non-null    int64  \n",
      " 1   Taxi_dist      853 non-null    int64  \n",
      " 2   Market_dist    853 non-null    int64  \n",
      " 3   Hospital_dist  853 non-null    int64  \n",
      " 4   Carpet_area    853 non-null    int64  \n",
      " 5   Builtup_area   853 non-null    int64  \n",
      " 6   Parking_type   853 non-null    object \n",
      " 7   City_type      853 non-null    object \n",
      " 8   Rainfall       853 non-null    int64  \n",
      " 9   Price_house    853 non-null    int64  \n",
      " 10  prediction     853 non-null    float64\n",
      " 11   Difference    853 non-null    object \n",
      "dtypes: float64(1), int64(8), object(3)\n",
      "memory usage: 80.1+ KB\n"
     ]
    }
   ],
   "source": [
    "data.info()"
   ]
  },
  {
   "cell_type": "code",
   "execution_count": 13,
   "id": "d46aab0a-f305-4bfd-a721-d104fc109dc7",
   "metadata": {},
   "outputs": [
    {
     "data": {
      "text/html": [
       "<div>\n",
       "<style scoped>\n",
       "    .dataframe tbody tr th:only-of-type {\n",
       "        vertical-align: middle;\n",
       "    }\n",
       "\n",
       "    .dataframe tbody tr th {\n",
       "        vertical-align: top;\n",
       "    }\n",
       "\n",
       "    .dataframe thead th {\n",
       "        text-align: right;\n",
       "    }\n",
       "</style>\n",
       "<table border=\"1\" class=\"dataframe\">\n",
       "  <thead>\n",
       "    <tr style=\"text-align: right;\">\n",
       "      <th></th>\n",
       "      <th>Unnamed: 0</th>\n",
       "      <th>Taxi_dist</th>\n",
       "      <th>Market_dist</th>\n",
       "      <th>Hospital_dist</th>\n",
       "      <th>Carpet_area</th>\n",
       "      <th>Builtup_area</th>\n",
       "      <th>Rainfall</th>\n",
       "      <th>Price_house</th>\n",
       "      <th>prediction</th>\n",
       "    </tr>\n",
       "  </thead>\n",
       "  <tbody>\n",
       "    <tr>\n",
       "      <th>count</th>\n",
       "      <td>853.000000</td>\n",
       "      <td>853.000000</td>\n",
       "      <td>853.000000</td>\n",
       "      <td>853.000000</td>\n",
       "      <td>853.000000</td>\n",
       "      <td>853.000000</td>\n",
       "      <td>853.000000</td>\n",
       "      <td>8.530000e+02</td>\n",
       "      <td>8.530000e+02</td>\n",
       "    </tr>\n",
       "    <tr>\n",
       "      <th>mean</th>\n",
       "      <td>469.644783</td>\n",
       "      <td>8233.335287</td>\n",
       "      <td>11013.840563</td>\n",
       "      <td>13103.606096</td>\n",
       "      <td>1487.371630</td>\n",
       "      <td>1784.290739</td>\n",
       "      <td>784.888628</td>\n",
       "      <td>6.088356e+06</td>\n",
       "      <td>6.088356e+06</td>\n",
       "    </tr>\n",
       "    <tr>\n",
       "      <th>std</th>\n",
       "      <td>270.216470</td>\n",
       "      <td>2544.427965</td>\n",
       "      <td>2556.393461</td>\n",
       "      <td>2599.087729</td>\n",
       "      <td>249.703931</td>\n",
       "      <td>299.188440</td>\n",
       "      <td>266.314426</td>\n",
       "      <td>1.584783e+06</td>\n",
       "      <td>1.100492e+06</td>\n",
       "    </tr>\n",
       "    <tr>\n",
       "      <th>min</th>\n",
       "      <td>1.000000</td>\n",
       "      <td>146.000000</td>\n",
       "      <td>1666.000000</td>\n",
       "      <td>3227.000000</td>\n",
       "      <td>775.000000</td>\n",
       "      <td>932.000000</td>\n",
       "      <td>0.000000</td>\n",
       "      <td>3.312000e+06</td>\n",
       "      <td>3.844625e+06</td>\n",
       "    </tr>\n",
       "    <tr>\n",
       "      <th>25%</th>\n",
       "      <td>233.000000</td>\n",
       "      <td>6469.000000</td>\n",
       "      <td>9329.000000</td>\n",
       "      <td>11295.000000</td>\n",
       "      <td>1317.000000</td>\n",
       "      <td>1579.000000</td>\n",
       "      <td>600.000000</td>\n",
       "      <td>4.856000e+06</td>\n",
       "      <td>5.211695e+06</td>\n",
       "    </tr>\n",
       "    <tr>\n",
       "      <th>50%</th>\n",
       "      <td>472.000000</td>\n",
       "      <td>8216.000000</td>\n",
       "      <td>11161.000000</td>\n",
       "      <td>13216.000000</td>\n",
       "      <td>1481.000000</td>\n",
       "      <td>1774.000000</td>\n",
       "      <td>770.000000</td>\n",
       "      <td>5.982000e+06</td>\n",
       "      <td>5.742676e+06</td>\n",
       "    </tr>\n",
       "    <tr>\n",
       "      <th>75%</th>\n",
       "      <td>705.000000</td>\n",
       "      <td>9963.000000</td>\n",
       "      <td>12701.000000</td>\n",
       "      <td>14913.000000</td>\n",
       "      <td>1657.000000</td>\n",
       "      <td>1988.000000</td>\n",
       "      <td>970.000000</td>\n",
       "      <td>7.243000e+06</td>\n",
       "      <td>7.228011e+06</td>\n",
       "    </tr>\n",
       "    <tr>\n",
       "      <th>max</th>\n",
       "      <td>932.000000</td>\n",
       "      <td>16850.000000</td>\n",
       "      <td>18281.000000</td>\n",
       "      <td>22407.000000</td>\n",
       "      <td>2229.000000</td>\n",
       "      <td>2667.000000</td>\n",
       "      <td>1560.000000</td>\n",
       "      <td>1.051500e+07</td>\n",
       "      <td>8.220739e+06</td>\n",
       "    </tr>\n",
       "  </tbody>\n",
       "</table>\n",
       "</div>"
      ],
      "text/plain": [
       "       Unnamed: 0     Taxi_dist   Market_dist  Hospital_dist  Carpet_area  \\\n",
       "count  853.000000    853.000000    853.000000     853.000000   853.000000   \n",
       "mean   469.644783   8233.335287  11013.840563   13103.606096  1487.371630   \n",
       "std    270.216470   2544.427965   2556.393461    2599.087729   249.703931   \n",
       "min      1.000000    146.000000   1666.000000    3227.000000   775.000000   \n",
       "25%    233.000000   6469.000000   9329.000000   11295.000000  1317.000000   \n",
       "50%    472.000000   8216.000000  11161.000000   13216.000000  1481.000000   \n",
       "75%    705.000000   9963.000000  12701.000000   14913.000000  1657.000000   \n",
       "max    932.000000  16850.000000  18281.000000   22407.000000  2229.000000   \n",
       "\n",
       "       Builtup_area     Rainfall   Price_house    prediction  \n",
       "count    853.000000   853.000000  8.530000e+02  8.530000e+02  \n",
       "mean    1784.290739   784.888628  6.088356e+06  6.088356e+06  \n",
       "std      299.188440   266.314426  1.584783e+06  1.100492e+06  \n",
       "min      932.000000     0.000000  3.312000e+06  3.844625e+06  \n",
       "25%     1579.000000   600.000000  4.856000e+06  5.211695e+06  \n",
       "50%     1774.000000   770.000000  5.982000e+06  5.742676e+06  \n",
       "75%     1988.000000   970.000000  7.243000e+06  7.228011e+06  \n",
       "max     2667.000000  1560.000000  1.051500e+07  8.220739e+06  "
      ]
     },
     "execution_count": 13,
     "metadata": {},
     "output_type": "execute_result"
    }
   ],
   "source": [
    "data.describe()"
   ]
  },
  {
   "cell_type": "markdown",
   "id": "611ef1ca-079b-4100-b9ec-6baf8dcde2a3",
   "metadata": {},
   "source": [
    "### 3.Ensure that any date columns have been cast into a datetime object in your DataFrame."
   ]
  },
  {
   "cell_type": "markdown",
   "id": "510ec2c9-ee3b-4ddc-bfe0-05ea621f89ab",
   "metadata": {},
   "source": [
    "##### *This point I will skip it beacuse i don't have dat or time in my CSV file*"
   ]
  },
  {
   "cell_type": "markdown",
   "id": "8c56f587-0941-4f05-9ef3-905e5cc801fe",
   "metadata": {},
   "source": [
    "### 4.Using a regression model, split your data into train and test data."
   ]
  },
  {
   "cell_type": "code",
   "execution_count": 14,
   "id": "1e815ea5-f5f8-44f0-b087-d14807685096",
   "metadata": {},
   "outputs": [
    {
     "name": "stdout",
     "output_type": "stream",
     "text": [
      "X_rd_train shape (639, 1)\n",
      "y_rd_train shape (639,)\n",
      "X_rd_test shap (214, 1)\n",
      "y_rd_test shape (214,)\n",
      "[ 5995000  5953000  6913000 10182000  5775000  6104000  6541000  6383000\n",
      "  8436000  8404000  9300000  5938000  7511000  3781000  5571000  5350000\n",
      "  3343000  3677000  6006000  4384000  8139000  7002000  9590000  8484000\n",
      "  4372000  6960000  9230000  5854000  6053000  4347000  5044000  4658000\n",
      "  8567000  6271000  5074000  8516000  5992000  4070000  4976000  7312000\n",
      "  8079000  6385000  5430000  4243000  3783000  3528000  7708000  3732000\n",
      "  4334000  5748000  4683000  4502000  7978000  8126000  6159000  6469000\n",
      "  6238000  9469000  7241000  4149000  8239000  6205000  6372000  6482000\n",
      "  7317000  4108000  8469000  5078000  6401000  7847000  4895000  7712000\n",
      "  3798000  5894000  8325000  7673000  4670000  6556000  7743000  8430000\n",
      "  7921000  5469000  9096000  7810000  8533000  5762000  5838000  8041000\n",
      "  6961000  6044000 10231000  5459000 10090000  6302000  5714000  4174000\n",
      "  5081000  3598000  9237000  4298000  5517000  5782000  6077000  7473000\n",
      "  4595000  5278000  8700000  8078000 10292000  4473000  7806000  7593000\n",
      "  7061000  5866000  4605000  5453000  5582000  4049000  5073000  4959000\n",
      "  5913000  6889000  7316000  7635000  7271000  6566000  7802000  5323000\n",
      "  5994000  7227000  7081000  5146000  4157000  5894000  9136000  5461000\n",
      "  3817000  8656000  7941000  4546000  7011000  6351000  5617000  5403000\n",
      "  5059000  4861000  7530000  4286000  8184000  4623000  3580000  7843000\n",
      "  5867000  8954000  4780000  4160000  3600000  4288000  6115000  7359000\n",
      "  5170000  5671000  7235000  4895000  4959000  6957000  8671000  6845000\n",
      "  6539000  6600000  7452000  6508000  5516000  4105000  5636000  4951000\n",
      "  5791000  6909000  6395000  5261000  3739000  4818000  5082000  5437000\n",
      "  4867000  5294000  6939000  6710000  4281000  5679000  7823000  6684000\n",
      "  7045000  5623000  3889000  6885000  9726000  5240000  8235000  3559000\n",
      "  3948000  5566000  6761000  5406000  4171000  3970000  7597000  8235000\n",
      "  7294000  5119000  7630000  4665000  6771000  7029000]\n"
     ]
    }
   ],
   "source": [
    "\n",
    "X_rd = data['Market_dist'].values\n",
    "y_rd = data['Price_house'].values\n",
    "X_rd=X_rd.reshape(-1, 1)\n",
    "X_rd\n",
    "x_train, x_test, y_train, y_test = train_test_split(X_rd,y_rd,test_size=0.25,random_state=4)\n",
    "\n",
    "\n",
    "print(f\"X_rd_train shape {x_train.shape}\")\n",
    "print(f\"y_rd_train shape {y_train.shape}\")\n",
    "print(f\"X_rd_test shap {x_test.shape}\")\n",
    "print(f\"y_rd_test shape {y_test.shape}\")\n",
    "print(y_test)"
   ]
  },
  {
   "cell_type": "markdown",
   "id": "a63a9e9c-bdee-4153-a3c3-045370de3975",
   "metadata": {},
   "source": [
    "### 5.Fit your training split to the regression model."
   ]
  },
  {
   "cell_type": "code",
   "execution_count": 15,
   "id": "6b8fd32a-9507-4a45-8668-44a2dd98a885",
   "metadata": {},
   "outputs": [
    {
     "data": {
      "text/plain": [
       "LinearRegression()"
      ]
     },
     "execution_count": 15,
     "metadata": {},
     "output_type": "execute_result"
    }
   ],
   "source": [
    "lm = LinearRegression()\n",
    "lm.fit(x_train,y_train)"
   ]
  },
  {
   "cell_type": "markdown",
   "id": "cf54656b-a973-433d-ad9a-8f3c68d51a23",
   "metadata": {},
   "source": [
    "### 6.Show your regression model’s score."
   ]
  },
  {
   "cell_type": "code",
   "execution_count": 18,
   "id": "54f3ae06-eb02-4c38-bdc3-585f7ba796b0",
   "metadata": {},
   "outputs": [
    {
     "name": "stdout",
     "output_type": "stream",
     "text": [
      " accuracy 2.08569693662084 %\n"
     ]
    }
   ],
   "source": [
    "y_predict = lm.predict(x_test)\n",
    "\n",
    "\n",
    "print(f\" accuracy {lm.score(x_train,y_train)*100} %\")\n"
   ]
  },
  {
   "cell_type": "code",
   "execution_count": 19,
   "id": "dedbb2e5-968b-47e1-810a-bf8078d9a60b",
   "metadata": {
    "tags": []
   },
   "outputs": [
    {
     "data": {
      "image/png": "[encoded data removed]",
      "text/plain": [
       "<Figure size 432x288 with 1 Axes>"
      ]
     },
     "metadata": {
      "needs_background": "light"
     },
     "output_type": "display_data"
    }
   ],
   "source": [
    "plt.scatter(x_train, y_train, color='blue')\n",
    "plt.scatter(x_test, y_test, color='y')\n",
    "plt.plot(x_test, y_predict, color='red')\n",
    "plt.xlabel('Market_dist')\n",
    "plt.ylabel('Price_house')\n",
    "\n",
    "plt.show()\n"
   ]
  },
  {
   "cell_type": "markdown",
   "id": "7495eaa3-55e2-46e0-b137-8ef6e93da4e6",
   "metadata": {},
   "source": [
    "\n",
    "**I came up with a conclusion that houses price do not effected by location**  "
   ]
  },
  {
   "cell_type": "markdown",
   "id": "1a18b091-2512-41b0-bce5-9116f83bb46c",
   "metadata": {},
   "source": [
    "--------------------------------------------------------------------------------"
   ]
  },
  {
   "cell_type": "markdown",
   "id": "f2b826f7-c54b-4561-8e77-5d083ab67432",
   "metadata": {},
   "source": [
    "## **Second File about hight and wehgit "
   ]
  },
  {
   "cell_type": "code",
   "execution_count": 20,
   "id": "ab0693a7-9196-4aed-ad04-ec3d7036b64c",
   "metadata": {},
   "outputs": [],
   "source": [
    "data = pd.read_csv(\"./data.csv\")"
   ]
  },
  {
   "cell_type": "markdown",
   "id": "209ba0e0-3483-4442-ac2a-fbff512c1c84",
   "metadata": {},
   "source": [
    "### 1.Show the first five rows of the data set."
   ]
  },
  {
   "cell_type": "code",
   "execution_count": 21,
   "id": "cce15013-8b6a-48fe-878c-3f5ea15158b9",
   "metadata": {},
   "outputs": [
    {
     "data": {
      "text/html": [
       "<div>\n",
       "<style scoped>\n",
       "    .dataframe tbody tr th:only-of-type {\n",
       "        vertical-align: middle;\n",
       "    }\n",
       "\n",
       "    .dataframe tbody tr th {\n",
       "        vertical-align: top;\n",
       "    }\n",
       "\n",
       "    .dataframe thead th {\n",
       "        text-align: right;\n",
       "    }\n",
       "</style>\n",
       "<table border=\"1\" class=\"dataframe\">\n",
       "  <thead>\n",
       "    <tr style=\"text-align: right;\">\n",
       "      <th></th>\n",
       "      <th>Height</th>\n",
       "      <th>Weight</th>\n",
       "    </tr>\n",
       "  </thead>\n",
       "  <tbody>\n",
       "    <tr>\n",
       "      <th>0</th>\n",
       "      <td>1.47</td>\n",
       "      <td>52.21</td>\n",
       "    </tr>\n",
       "    <tr>\n",
       "      <th>1</th>\n",
       "      <td>1.50</td>\n",
       "      <td>53.12</td>\n",
       "    </tr>\n",
       "    <tr>\n",
       "      <th>2</th>\n",
       "      <td>1.52</td>\n",
       "      <td>54.48</td>\n",
       "    </tr>\n",
       "    <tr>\n",
       "      <th>3</th>\n",
       "      <td>1.55</td>\n",
       "      <td>55.84</td>\n",
       "    </tr>\n",
       "    <tr>\n",
       "      <th>4</th>\n",
       "      <td>1.57</td>\n",
       "      <td>57.20</td>\n",
       "    </tr>\n",
       "  </tbody>\n",
       "</table>\n",
       "</div>"
      ],
      "text/plain": [
       "   Height  Weight\n",
       "0    1.47   52.21\n",
       "1    1.50   53.12\n",
       "2    1.52   54.48\n",
       "3    1.55   55.84\n",
       "4    1.57   57.20"
      ]
     },
     "execution_count": 21,
     "metadata": {},
     "output_type": "execute_result"
    }
   ],
   "source": [
    "data.head()"
   ]
  },
  {
   "cell_type": "markdown",
   "id": "769a5086-9c1d-4772-81d5-d6e89ba7ba25",
   "metadata": {},
   "source": [
    "### 2.Show the description and the info of the data set."
   ]
  },
  {
   "cell_type": "code",
   "execution_count": 22,
   "id": "1e7d8400-8798-452f-8111-21f3f440f913",
   "metadata": {},
   "outputs": [
    {
     "name": "stdout",
     "output_type": "stream",
     "text": [
      "<class 'pandas.core.frame.DataFrame'>\n",
      "RangeIndex: 15 entries, 0 to 14\n",
      "Data columns (total 2 columns):\n",
      " #   Column  Non-Null Count  Dtype  \n",
      "---  ------  --------------  -----  \n",
      " 0   Height  15 non-null     float64\n",
      " 1   Weight  15 non-null     float64\n",
      "dtypes: float64(2)\n",
      "memory usage: 368.0 bytes\n"
     ]
    }
   ],
   "source": [
    "data.info()"
   ]
  },
  {
   "cell_type": "code",
   "execution_count": 23,
   "id": "d3f2ca64-869c-4c58-842a-ac0be270f1d5",
   "metadata": {},
   "outputs": [
    {
     "data": {
      "text/html": [
       "<div>\n",
       "<style scoped>\n",
       "    .dataframe tbody tr th:only-of-type {\n",
       "        vertical-align: middle;\n",
       "    }\n",
       "\n",
       "    .dataframe tbody tr th {\n",
       "        vertical-align: top;\n",
       "    }\n",
       "\n",
       "    .dataframe thead th {\n",
       "        text-align: right;\n",
       "    }\n",
       "</style>\n",
       "<table border=\"1\" class=\"dataframe\">\n",
       "  <thead>\n",
       "    <tr style=\"text-align: right;\">\n",
       "      <th></th>\n",
       "      <th>Height</th>\n",
       "      <th>Weight</th>\n",
       "    </tr>\n",
       "  </thead>\n",
       "  <tbody>\n",
       "    <tr>\n",
       "      <th>count</th>\n",
       "      <td>15.000000</td>\n",
       "      <td>15.000000</td>\n",
       "    </tr>\n",
       "    <tr>\n",
       "      <th>mean</th>\n",
       "      <td>1.650667</td>\n",
       "      <td>62.078000</td>\n",
       "    </tr>\n",
       "    <tr>\n",
       "      <th>std</th>\n",
       "      <td>0.114235</td>\n",
       "      <td>7.037515</td>\n",
       "    </tr>\n",
       "    <tr>\n",
       "      <th>min</th>\n",
       "      <td>1.470000</td>\n",
       "      <td>52.210000</td>\n",
       "    </tr>\n",
       "    <tr>\n",
       "      <th>25%</th>\n",
       "      <td>1.560000</td>\n",
       "      <td>56.520000</td>\n",
       "    </tr>\n",
       "    <tr>\n",
       "      <th>50%</th>\n",
       "      <td>1.650000</td>\n",
       "      <td>61.290000</td>\n",
       "    </tr>\n",
       "    <tr>\n",
       "      <th>75%</th>\n",
       "      <td>1.740000</td>\n",
       "      <td>67.190000</td>\n",
       "    </tr>\n",
       "    <tr>\n",
       "      <th>max</th>\n",
       "      <td>1.830000</td>\n",
       "      <td>74.460000</td>\n",
       "    </tr>\n",
       "  </tbody>\n",
       "</table>\n",
       "</div>"
      ],
      "text/plain": [
       "          Height     Weight\n",
       "count  15.000000  15.000000\n",
       "mean    1.650667  62.078000\n",
       "std     0.114235   7.037515\n",
       "min     1.470000  52.210000\n",
       "25%     1.560000  56.520000\n",
       "50%     1.650000  61.290000\n",
       "75%     1.740000  67.190000\n",
       "max     1.830000  74.460000"
      ]
     },
     "execution_count": 23,
     "metadata": {},
     "output_type": "execute_result"
    }
   ],
   "source": [
    "data.describe()"
   ]
  },
  {
   "cell_type": "markdown",
   "id": "0abf3709-8506-4fe2-aafb-611ba0553c43",
   "metadata": {},
   "source": [
    "### 3.Ensure that any date columns have been cast into a datetime object in your DataFrame."
   ]
  },
  {
   "cell_type": "markdown",
   "id": "4530db66-b260-4455-b2c9-2aba8a02bac2",
   "metadata": {},
   "source": [
    "##### *This point I will skip it beacuse i don't have dat or time in my CSV file*"
   ]
  },
  {
   "cell_type": "markdown",
   "id": "e4560b65-89a4-4a08-92ae-1fa1f506cc70",
   "metadata": {},
   "source": [
    "### 4.Using a regression model, split your data into train and test data."
   ]
  },
  {
   "cell_type": "code",
   "execution_count": 24,
   "id": "a6d2d372-2809-4c52-a027-d9f0de4a7400",
   "metadata": {},
   "outputs": [
    {
     "name": "stdout",
     "output_type": "stream",
     "text": [
      "X_rd_train shape (11, 1)\n",
      "y_rd_train shape (11,)\n",
      "X_rd_test shap (4, 1)\n",
      "y_rd_test shape (4,)\n",
      "[69.92 52.21 59.93 55.84]\n"
     ]
    }
   ],
   "source": [
    "\n",
    "X_rd = data['Height'].values\n",
    "y_rd = data['Weight'].values\n",
    "X_rd=X_rd.reshape(-1, 1)\n",
    "X_rd\n",
    "x_train, x_test, y_train, y_test = train_test_split(X_rd,y_rd,test_size=0.25,random_state=4)\n",
    "\n",
    "\n",
    "print(f\"X_rd_train shape {x_train.shape}\")\n",
    "print(f\"y_rd_train shape {y_train.shape}\")\n",
    "print(f\"X_rd_test shap {x_test.shape}\")\n",
    "print(f\"y_rd_test shape {y_test.shape}\")\n",
    "print(y_test)"
   ]
  },
  {
   "cell_type": "markdown",
   "id": "681ed3e0-ac57-448f-8dd0-4fcd411b0ac0",
   "metadata": {},
   "source": [
    "### 5.Fit your training split to the regression model."
   ]
  },
  {
   "cell_type": "code",
   "execution_count": 25,
   "id": "2ac2bac9-3e0e-49b1-bf24-010b053229ac",
   "metadata": {},
   "outputs": [
    {
     "data": {
      "text/plain": [
       "LinearRegression()"
      ]
     },
     "execution_count": 25,
     "metadata": {},
     "output_type": "execute_result"
    }
   ],
   "source": [
    "lm = LinearRegression()\n",
    "lm.fit(x_train,y_train)"
   ]
  },
  {
   "cell_type": "markdown",
   "id": "7a6b0e17-dc9c-4215-802b-fd925824c6de",
   "metadata": {},
   "source": [
    "### 6.Show your regression model’s score."
   ]
  },
  {
   "cell_type": "code",
   "execution_count": 26,
   "id": "d0548bde-4963-4fc8-a2c3-fcfb5965223f",
   "metadata": {},
   "outputs": [
    {
     "name": "stdout",
     "output_type": "stream",
     "text": [
      " accuracy 98.98074280905638 %\n"
     ]
    }
   ],
   "source": [
    "y_predict = lm.predict(x_test)\n",
    "\n",
    "\n",
    "print(f\" accuracy {lm.score(x_train,y_train)*100} %\")\n"
   ]
  },
  {
   "cell_type": "code",
   "execution_count": 36,
   "id": "4735f5a1-ddce-4b31-a49e-69f015c03106",
   "metadata": {
    "tags": []
   },
   "outputs": [
    {
     "data": {
      "image/png": "[encoded data removed]",
      "text/plain": [
       "<Figure size 432x288 with 1 Axes>"
      ]
     },
     "metadata": {
      "needs_background": "light"
     },
     "output_type": "display_data"
    }
   ],
   "source": [
    "plt.scatter(x_train, y_train, color='purple')\n",
    "plt.scatter(x_test, y_test, color='orange')\n",
    "plt.plot(x_test, y_predict, color='red')\n",
    "plt.xlabel('Market_dist')\n",
    "plt.ylabel('Price_house')\n",
    "\n",
    "plt.show()\n"
   ]
  },
  {
   "cell_type": "markdown",
   "id": "6cee23af-ffc7-4687-9b07-a3c29f897986",
   "metadata": {},
   "source": [
    "\n",
    "**I came up with a conclusion Weghit is effected by Hight **  "
   ]
  }
 ],
 "metadata": {
  "kernelspec": {
   "display_name": "Python 3",
   "language": "python",
   "name": "python3"
  },
  "language_info": {
   "codemirror_mode": {
    "name": "ipython",
    "version": 3
   },
   "file_extension": ".py",
   "mimetype": "text/x-python",
   "name": "python",
   "nbconvert_exporter": "python",
   "pygments_lexer": "ipython3",
   "version": "3.8.5"
  }
 },
 "nbformat": 4,
 "nbformat_minor": 5
}